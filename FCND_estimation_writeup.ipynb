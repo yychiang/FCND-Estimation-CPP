{
 "cells": [
  {
   "cell_type": "markdown",
   "metadata": {},
   "source": [
    "# FCND Estimation Writeup"
   ]
  },
  {
   "cell_type": "markdown",
   "metadata": {},
   "source": [
    "This writeup includes statements and supporting figures to explain how each rubric item was addressed, and specifically where in the code each step was handled."
   ]
  },
  {
   "cell_type": "markdown",
   "metadata": {},
   "source": [
    "## Implement Estimator"
   ]
  },
  {
   "cell_type": "markdown",
   "metadata": {},
   "source": [
    "### Criterion 1: standard deviation"
   ]
  },
  {
   "cell_type": "markdown",
   "metadata": {},
   "source": [
    "This criterion is to determine the standard deviation of the measurement noise of both GPS $X$ data and Accelerometer $X$ data. The method used for determining the standard deviation is based on Python `numpy.std` function as below."
   ]
  },
  {
   "cell_type": "markdown",
   "metadata": {},
   "source": [
    "```python\n",
    "import numpy as np\n",
    "gps_x = np.loadtxt('./config/log/Graph1.txt',delimiter=',',dtype='Float64',skiprows=1)[:,1]\n",
    "acc_x = np.loadtxt('./config/log/Graph2.txt',delimiter=',',dtype='Float64',skiprows=1)[:,1]\n",
    "\n",
    "gps_x_std = np.std(gps_x)\n",
    "print(f'GPS X Std: {gps_x_std}')\n",
    "acc_x_std = np.std(acc_x)\n",
    "print(f'Accelerometer X Std: {acc_x_std}')\n",
    "```"
   ]
  },
  {
   "cell_type": "markdown",
   "metadata": {},
   "source": [
    "The results are:"
   ]
  },
  {
   "cell_type": "markdown",
   "metadata": {},
   "source": [
    "```\n",
    "GPS X Std: 0.743839343462462\n",
    "Accelerometer X Std: 0.48770309814045426\n",
    "```"
   ]
  },
  {
   "cell_type": "markdown",
   "metadata": {},
   "source": [
    "Specifically, the calculated standard deviation should correctly capture ~$68\\%$ of the sensor measurements. The output information is:"
   ]
  },
  {
   "cell_type": "markdown",
   "metadata": {},
   "source": [
    "```\n",
    "(../config/06_SensorNoise.txt)\n",
    "PASS: ABS(Quad.GPS.X-Quad.Pos.X) was less than MeasuredStdDev_GPSPosXY for 69% of the time\n",
    "PASS: ABS(Quad.IMU.AX-0.000000) was less than MeasuredStdDev_AccelXY for 67% of the time\n",
    "```"
   ]
  },
  {
   "cell_type": "markdown",
   "metadata": {},
   "source": [
    "<img src=\"fig6.png\">"
   ]
  },
  {
   "cell_type": "markdown",
   "metadata": {},
   "source": [
    "### Criterion 2: Implement a better rate gyro attitude integration scheme "
   ]
  },
  {
   "cell_type": "markdown",
   "metadata": {},
   "source": [
    "The purpose of this section is to implement a better rate gyro attitude integration scheme in the `UpdateFromIMU()` function. That means the improved integration scheme should result in an attitude estimator of < 0.1 rad for each of the Euler angles for a duration of at least 3 seconds during the simulation. The integration scheme could use at least two methods to improve performance over the current simple integration scheme. One is to use [quaternions(sec. 7.1.2)](https://www.overleaf.com/read/vymfngphcccj), another is a nonlinear transformation from gyro to the derivatives of Euler angles. The rotation matrix is:"
   ]
  },
  {
   "cell_type": "markdown",
   "metadata": {},
   "source": [
    "$$rot=\\begin{pmatrix}\n",
    "1 & \\sin\\phi \\tan\\theta & \\cos\\phi \\tan\\theta \\\\\n",
    "0 &  \\cos\\phi & -\\sin\\phi \\\\\n",
    "0 &\\sin\\phi \\sec\\theta &  \\cos\\phi \\sec\\theta\n",
    "\\end{pmatrix}$$"
   ]
  },
  {
   "cell_type": "markdown",
   "metadata": {},
   "source": [
    "Then, the derivatives of Euler angles are"
   ]
  },
  {
   "cell_type": "markdown",
   "metadata": {},
   "source": [
    "$$rot\\times gyro $$"
   ]
  },
  {
   "cell_type": "markdown",
   "metadata": {},
   "source": [
    "The portion of `UpdateFromIMU()` function is:"
   ]
  },
  {
   "cell_type": "markdown",
   "metadata": {},
   "source": [
    "```c\n",
    "////////////////////////////// BEGIN STUDENT CODE ///////////////////////////\n",
    "  // SMALL ANGLE GYRO INTEGRATION:\n",
    "  // (replace the code below)\n",
    "  // make sure you comment it out when you add your own code -- otherwise e.g. you might integrate yaw twice\n",
    "\n",
    "    /*\n",
    "  float predictedPitch = pitchEst + dtIMU * gyro.y;\n",
    "  float predictedRoll = rollEst + dtIMU * gyro.x;\n",
    "  ekfState(6) = ekfState(6) + dtIMU * gyro.z;\t// yaw\n",
    "\n",
    "  // normalize yaw to -pi .. pi\n",
    "  if (ekfState(6) > F_PI) ekfState(6) -= 2.f*F_PI;\n",
    "  if (ekfState(6) < -F_PI) ekfState(6) += 2.f*F_PI;\n",
    "     */\n",
    "\n",
    "    float phi = rollEst;\n",
    "    float theta = pitchEst;\n",
    "    \n",
    "    Mat3x3F rot = Mat3x3F::Zeros();\n",
    "    float sec=1/cos(theta);\n",
    "    rot(0,0) = 1;\n",
    "    rot(0,1) = sin(phi) * tan(theta);\n",
    "    rot(0,2) = cos(phi) * tan(theta);\n",
    "    rot(1,1) = cos(phi);\n",
    "    rot(1,2) = -sin(phi);\n",
    "    rot(2,1) = sin(phi) *sec;\n",
    "    rot(2,2) = cos(phi) *sec;\n",
    "    \n",
    "    V3F Euler_angle_dot = rot * gyro;\n",
    "    \n",
    "    float predictedRoll = rollEst + dtIMU * Euler_angle_dot.x;\n",
    "    float predictedPitch = pitchEst + dtIMU * Euler_angle_dot.y;\n",
    "    ekfState(6) = ekfState(6) + dtIMU * Euler_angle_dot.z;\n",
    "    \n",
    "    // normalize yaw to -pi .. pi\n",
    "    if (ekfState(6) > F_PI) ekfState(6) -= 2.f*F_PI;\n",
    "    if (ekfState(6) < -F_PI) ekfState(6) += 2.f*F_PI;\n",
    "/////////////////////////////// END STUDENT CODE ////////////////////////////\n",
    "\n",
    "```"
   ]
  },
  {
   "cell_type": "markdown",
   "metadata": {},
   "source": [
    "Then, the output is:"
   ]
  },
  {
   "cell_type": "markdown",
   "metadata": {},
   "source": [
    "```\n",
    "(../config/07_AttitudeEstimation.txt)\n",
    "PASS: ABS(Quad.Est.E.MaxEuler) was less than 0.100000 for at least 3.000000 seconds\n",
    "``` "
   ]
  },
  {
   "cell_type": "markdown",
   "metadata": {},
   "source": [
    "<img src=\"fig7.png\">"
   ]
  },
  {
   "cell_type": "markdown",
   "metadata": {},
   "source": [
    "### Criterion 3: Implement all of the elements of the prediction step for the estimator."
   ]
  },
  {
   "cell_type": "markdown",
   "metadata": {},
   "source": [
    "The prediction step includes the state update element (`PredictState()` function), a calculation of the Rgb prime matrix, and an update of the state covariance. The acceleration can be accounted for as a command in the calculation of gPrime. The covariance update should follow the classic EKF update equation. The following program is a portion of the function `PredictState()`, which is based on some basic physics:"
   ]
  },
  {
   "cell_type": "markdown",
   "metadata": {},
   "source": [
    "```c\n",
    "////////////////////////////// BEGIN STUDENT CODE ///////////////////////////\n",
    "    // This task only use some basic physics, the dynamical model of the drone,\n",
    "    // to predict the states of the vehicle.    \n",
    "    predictedState(0) = curState(0) + dt * curState(3);\n",
    "    predictedState(1) = curState(1) + dt * curState(4);\n",
    "    predictedState(2) = curState(2) + dt * curState(5);\n",
    "    \n",
    "    V3F acc_w = attitude.Rotate_BtoI(accel); // a 3D vector\n",
    "    \n",
    "    predictedState(3) = curState(3) + dt * acc_w.x;\n",
    "    predictedState(4) = curState(4) + dt * acc_w.y;\n",
    "    predictedState(5) = curState(5) + dt * acc_w.z - dt * CONST_GRAVITY;\n",
    "/////////////////////////////// END STUDENT CODE ////////////////////////////\n",
    "```"
   ]
  },
  {
   "cell_type": "markdown",
   "metadata": {},
   "source": [
    "After the `PredictState()` is finished, we can see the estimator state track the actual state, with only reasonably slow drift, as shown in the following figure:"
   ]
  },
  {
   "cell_type": "markdown",
   "metadata": {},
   "source": [
    "<img src=\"fig8.png\">"
   ]
  },
  {
   "cell_type": "markdown",
   "metadata": {},
   "source": [
    "Then, let's introduce a realistic IMU, one with noise. When we run the scenario 09_PredictionCov, we can see a small fleet of quadcopter all using our prediction code to integrate forward. There are two plots:\n",
    "\n",
    "* The top graph shows 10 (prediction-only) position X estimates.\n",
    "* The bottom graph shows 10 (prediction-only) velocity estimates."
   ]
  },
  {
   "cell_type": "markdown",
   "metadata": {},
   "source": [
    "In `QuadEstimatorEKF.cpp`, the partial derivative of the body-to-global rotation matrix in the function `GetRbgPrime()` was calculated:"
   ]
  },
  {
   "cell_type": "markdown",
   "metadata": {},
   "source": [
    "```c\n",
    "////////////////////////////// BEGIN STUDENT CODE ///////////////////////////\n",
    "    float cosTheta = cos(pitch);\n",
    "    float sinTheta = sin(pitch);\n",
    "    \n",
    "    float cosPhi = cos(roll);\n",
    "    float sinPhi = sin(roll);\n",
    "    \n",
    "    float sinPsi = sin(yaw);\n",
    "    float cosPsi = cos(yaw);\n",
    "    \n",
    "    RbgPrime(0,0) = - cosTheta * sinPsi;\n",
    "    RbgPrime(0,1) = - sinPhi  * sinTheta * sinPsi - cosTheta * cosPsi;\n",
    "    RbgPrime(0,2) = - cosPhi  * sinTheta * sinPsi + sinPhi   * cosPsi;\n",
    "    \n",
    "    RbgPrime(1,0) = cosTheta * cosPsi;\n",
    "    RbgPrime(1,1) = sinPhi  * sinTheta * cosPsi - cosPhi * sinPsi;\n",
    "    RbgPrime(1,2) = cosPhi  * sinTheta * cosPsi + sinPhi * sinPsi;\n",
    "\n",
    "/////////////////////////////// END STUDENT CODE ////////////////////////////\n",
    "```"
   ]
  },
  {
   "cell_type": "markdown",
   "metadata": {},
   "source": [
    "Then, the rest of the prediction step (predict the state covariance forward) in `Predict()` was implemented also:"
   ]
  },
  {
   "cell_type": "markdown",
   "metadata": {},
   "source": [
    "```c\n",
    "////////////////////////////// BEGIN STUDENT CODE ///////////////////////////\n",
    "    gPrime(0,3) = dt;\n",
    "    gPrime(1,4) = dt;\n",
    "    gPrime(2,5) = dt;\n",
    "    \n",
    "    gPrime(3, 6) = (RbgPrime(0) * accel).sum() * dt;\n",
    "    gPrime(4, 6) = (RbgPrime(1) * accel).sum() * dt;\n",
    "    gPrime(5, 6) = (RbgPrime(2) * accel).sum() * dt;\n",
    "    \n",
    "    ekfCov = gPrime * ekfCov * gPrime.transpose() + Q;\n",
    "/////////////////////////////// END STUDENT CODE ////////////////////////////\n",
    "```"
   ]
  },
  {
   "cell_type": "markdown",
   "metadata": {},
   "source": [
    "The next step is to tune the `QPosXYStd` and the `QVelXYStd` process parameters in `QuadEstimatorEKF.txt`."
   ]
  },
  {
   "cell_type": "markdown",
   "metadata": {},
   "source": [
    "```\n",
    "#QPosXYStd = .05\n",
    "#QPosZStd = .05\n",
    "QPosXYStd = .02\n",
    "QPosZStd = .02\n",
    "\n",
    "# QVelXYStd = .05\n",
    "QVelXYStd = .2\n",
    "```"
   ]
  },
  {
   "cell_type": "markdown",
   "metadata": {},
   "source": [
    "The result is:"
   ]
  },
  {
   "cell_type": "markdown",
   "metadata": {},
   "source": [
    "<img src=\"fig9.png\">"
   ]
  },
  {
   "cell_type": "markdown",
   "metadata": {},
   "source": [
    "### Criterion 4: Implement the magnetometer update."
   ]
  },
  {
   "cell_type": "markdown",
   "metadata": {},
   "source": [
    "Up until now, we've only used the accelerometer and gyro for our state estimation. In this step, we will be adding the information from the magnetometer to improve our filter's performance in estimating the vehicle's heading."
   ]
  },
  {
   "cell_type": "markdown",
   "metadata": {},
   "source": [
    "First, we tune the parameter `QYawStd` (QuadEstimatorEKF.txt) for the `QuadEstimatorEKF` so that it approximately captures the magnitude of the drift."
   ]
  },
  {
   "cell_type": "markdown",
   "metadata": {},
   "source": [
    "```\n",
    "# QYawStd = .05\n",
    "QYawStd = .1\n",
    "```"
   ]
  },
  {
   "cell_type": "markdown",
   "metadata": {},
   "source": [
    "Then, we implement magnetometer update in the function `UpdateFromMag()`. A resulting plot is shown as below:"
   ]
  },
  {
   "cell_type": "markdown",
   "metadata": {},
   "source": [
    "<img src=\"fig10.png\">"
   ]
  },
  {
   "cell_type": "markdown",
   "metadata": {},
   "source": [
    "Our goal is to both have an estimated standard deviation that accurately captures the error and maintain an error of less than 0.1rad in heading for at least 10 seconds of the simulation. The result is:"
   ]
  },
  {
   "cell_type": "markdown",
   "metadata": {},
   "source": [
    "```\n",
    "(../config/10_MagUpdate.txt)\n",
    "PASS: ABS(Quad.Est.E.Yaw) was less than 0.120000 for at least 10.000000 seconds\n",
    "PASS: ABS(Quad.Est.E.Yaw-0.000000) was less than Quad.Est.S.Yaw for 69% of the time\n",
    "```"
   ]
  },
  {
   "cell_type": "markdown",
   "metadata": {},
   "source": [
    "### Criterion 5: Implement the GPS update."
   ]
  },
  {
   "cell_type": "markdown",
   "metadata": {},
   "source": [
    "1. Run scenario 11_GPSUpdate. At the moment this scenario is using both an ideal estimator and and ideal IMU. Even with these ideal elements, watch the position and velocity errors (bottom right). We can see they are drifting away, since GPS update is not yet implemented."
   ]
  },
  {
   "cell_type": "markdown",
   "metadata": {},
   "source": [
    "2. Let's change to using our estimator by setting `Quad.UseIdealEstimator` to 0 in `config/11_GPSUpdate.txt`."
   ]
  },
  {
   "cell_type": "markdown",
   "metadata": {},
   "source": [
    "```\n",
    "# Quad.UseIdealEstimator = 1\n",
    "Quad.UseIdealEstimator = 0\n",
    "```"
   ]
  },
  {
   "cell_type": "markdown",
   "metadata": {},
   "source": [
    "3. Now repeat with realistic IMU by commenting out these lines in config/11_GPSUpdate.txt:"
   ]
  },
  {
   "cell_type": "markdown",
   "metadata": {},
   "source": [
    "```\n",
    "# SimIMU.AccelStd = 0,0,0\n",
    "# SimIMU.GyroStd = 0,0,0\n",
    "```"
   ]
  },
  {
   "cell_type": "markdown",
   "metadata": {},
   "source": [
    "4. Tune the process noise model in `QuadEstimatorEKF.txt` to try to approximately capture the error you see with the estimated uncertainty (standard deviation) of the filter."
   ]
  },
  {
   "cell_type": "markdown",
   "metadata": {},
   "source": [
    "5. Implement the EKF GPS Update in the function `UpdateFromGPS()`."
   ]
  },
  {
   "cell_type": "markdown",
   "metadata": {},
   "source": [
    "```c\n",
    "// GPS UPDATE\n",
    "  // Hints: \n",
    "  //  - The GPS measurement covariance is available in member variable R_GPS\n",
    "  //  - this is a very simple update\n",
    "  ////////////////////////////// BEGIN STUDENT CODE ///////////////////////////\n",
    "    for (int i=0; i<6; i++){\n",
    "        zFromX(i) = ekfState(i);\n",
    "    }\n",
    "    \n",
    "    for ( int i = 0; i < 6; i++) {\n",
    "        hPrime(i,i) = 1;\n",
    "    }\n",
    "/////////////////////////////// END STUDENT CODE ////////////////////////////\n",
    "```"
   ]
  },
  {
   "cell_type": "markdown",
   "metadata": {},
   "source": [
    "6. Now once again re-run the simulation. Our objective is to complete the entire simulation cycle with estimated position error of < 1m (we can see a green box over the bottom graph if we succeed). We may to try experimenting with the GPS update parameters to try and get better performance."
   ]
  },
  {
   "cell_type": "markdown",
   "metadata": {},
   "source": [
    "The output is:"
   ]
  },
  {
   "cell_type": "markdown",
   "metadata": {},
   "source": [
    "```\n",
    "(../config/11_GPSUpdate.txt)\n",
    "PASS: ABS(Quad.Est.E.Pos) was less than 1.000000 for at least 20.000000 seconds\n",
    "```"
   ]
  },
  {
   "cell_type": "markdown",
   "metadata": {},
   "source": [
    "And, the resulting plot is:"
   ]
  },
  {
   "cell_type": "markdown",
   "metadata": {},
   "source": [
    "<img src=\"fig11.png\">"
   ]
  },
  {
   "cell_type": "markdown",
   "metadata": {},
   "source": [
    "## Conclusions"
   ]
  },
  {
   "cell_type": "markdown",
   "metadata": {},
   "source": [
    "For each step of the project, the final estimator can be able to successfully meet the performance criteria with the controller provided. The estimator's parameters could be properly adjusted to satisfy each of the performance criteria elements."
   ]
  },
  {
   "cell_type": "markdown",
   "metadata": {},
   "source": [
    "The controller developed in the previous project has been de-tuned to successfully meet the performance criteria of the final scenario (<1m error for entire box flight)."
   ]
  },
  {
   "cell_type": "code",
   "execution_count": null,
   "metadata": {},
   "outputs": [],
   "source": []
  }
 ],
 "metadata": {
  "kernelspec": {
   "display_name": "Python 3",
   "language": "python",
   "name": "python3"
  },
  "language_info": {
   "codemirror_mode": {
    "name": "ipython",
    "version": 3
   },
   "file_extension": ".py",
   "mimetype": "text/x-python",
   "name": "python",
   "nbconvert_exporter": "python",
   "pygments_lexer": "ipython3",
   "version": "3.6.5"
  }
 },
 "nbformat": 4,
 "nbformat_minor": 2
}
